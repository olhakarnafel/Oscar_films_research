{
 "cells": [
  {
   "cell_type": "code",
   "execution_count": 2,
   "metadata": {},
   "outputs": [
    {
     "name": "stdout",
     "output_type": "stream",
     "text": [
      "Годы      | Рейтинг | Длина  | Бюджет за минуту | Сборы \n",
      "--------------------------------------------------------\n",
      "1988-1998 |    8.24 | 152.20 |             0.28 | 498.31\n",
      "1998-2008 |    8.10 | 136.20 |             0.34 | 361.93\n",
      "2008-2018 |    7.43 | 119.40 |             0.15 | 183.73\n"
     ]
    }
   ],
   "source": [
    "import oscar_films_research\n",
    "oscar_films_research.do_research()"
   ]
  },
  {
   "cell_type": "code",
   "execution_count": null,
   "metadata": {},
   "outputs": [],
   "source": []
  }
 ],
 "metadata": {
  "kernelspec": {
   "display_name": "Python 3",
   "language": "python",
   "name": "python3"
  },
  "language_info": {
   "codemirror_mode": {
    "name": "ipython",
    "version": 3
   },
   "file_extension": ".py",
   "mimetype": "text/x-python",
   "name": "python",
   "nbconvert_exporter": "python",
   "pygments_lexer": "ipython3",
   "version": "3.7.6"
  }
 },
 "nbformat": 4,
 "nbformat_minor": 4
}
